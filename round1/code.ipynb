{
 "cells": [
  {
   "cell_type": "markdown",
   "id": "a47b1dbd",
   "metadata": {},
   "source": [
    "# NLP Project Round 1"
   ]
  },
  {
   "cell_type": "markdown",
   "id": "d382fbae",
   "metadata": {},
   "source": [
    "### Importing The Libraries"
   ]
  },
  {
   "cell_type": "code",
   "execution_count": 21,
   "id": "24d0e618",
   "metadata": {},
   "outputs": [],
   "source": [
    "import urllib.request, urllib.parse, urllib.error\n",
    "import ssl\n",
    "import json\n",
    "import nltk\n",
    "import re\n",
    "from nltk.probability import FreqDist\n",
    "import matplotlib.pyplot as plt\n",
    "from wordcloud import WordCloud, STOPWORDS\n",
    "from nltk.corpus import stopwords"
   ]
  },
  {
   "cell_type": "markdown",
   "id": "7f98611c",
   "metadata": {},
   "source": [
    "### Function for Plotting the Graph"
   ]
  },
  {
   "cell_type": "code",
   "execution_count": 22,
   "id": "1ce660e3",
   "metadata": {},
   "outputs": [],
   "source": [
    "def plot(X,Y,X_label,Y_label,title):\n",
    "    plt.bar(X, Y, tick_label = X, width = 0.8, color = ['blue', 'green'])\n",
    "    plt.xlabel(X_label)\n",
    "    plt.ylabel(Y_label)\n",
    "    plt.title(title)\n",
    "    plt.show()"
   ]
  },
  {
   "cell_type": "code",
   "execution_count": 23,
   "id": "e6a16866",
   "metadata": {},
   "outputs": [],
   "source": [
    "def plot_relationship(freq_dist):\n",
    "    \n",
    "    # freq_dist is the frequency distribution of each of word\n",
    "    # word_length is a list that will contain all the word length and the frequency of that corresponding word\n",
    "    word_length = {}\n",
    "    \n",
    "    for i in freq_dist.keys():\n",
    "        if len(i) not in word_length.keys():\n",
    "            word_length[len(i)] = freq_dist[i] #adding a new word length and its frequency in the word_length list\n",
    "        else:\n",
    "            word_length[len(i)] += freq_dist[i] #increasing the frequency of already existing word length\n",
    "\n",
    "    #X will contain all the length of the words\n",
    "    \n",
    "    X = []\n",
    "    \n",
    "    #Y will contain the corresponding frequency\n",
    "    Y = []\n",
    "\n",
    "    for i in word_length.keys():\n",
    "        X.append(i)\n",
    "        \n",
    "    # Sorting the word length\n",
    "    X.sort()\n",
    "\n",
    "    for i in X:\n",
    "        Y.append(word_length[i])\n",
    "\n",
    "    #Plotting a bar graph for recorded data\n",
    "    X_label = 'WORD LENGTH'\n",
    "    Y_label = 'FREQUENCY'\n",
    "    title = 'RELATIONSHIP BETWEEN WORD LENGTH AND FREQUENCY'\n",
    "    plot(X,Y,X_label,Y_label,title)"
   ]
  },
  {
   "cell_type": "markdown",
   "id": "0afca032",
   "metadata": {},
   "source": [
    "### Extracting First text"
   ]
  },
  {
   "cell_type": "code",
   "execution_count": 24,
   "id": "ae7ab4ac",
   "metadata": {},
   "outputs": [
    {
     "name": "stdout",
     "output_type": "stream",
     "text": [
      "Extracting  http://www.gutenberg.org/files/1342/1342-0.txt\n"
     ]
    }
   ],
   "source": [
    "book1 = 'http://www.gutenberg.org/files/1342/1342-0.txt'\n",
    "print('Extracting ',book1)\n",
    "uh1 = urllib.request.urlopen(book1)\n",
    "data1 = uh1.read().decode('utf8')"
   ]
  },
  {
   "cell_type": "markdown",
   "id": "b65db0ba",
   "metadata": {},
   "source": [
    "### Extracting Second text"
   ]
  },
  {
   "cell_type": "code",
   "execution_count": 25,
   "id": "e0ed7da1",
   "metadata": {},
   "outputs": [
    {
     "name": "stdout",
     "output_type": "stream",
     "text": [
      "Extracting  http://www.gutenberg.org/files/829/829-0.txt\n"
     ]
    }
   ],
   "source": [
    "book2 = 'http://www.gutenberg.org/files/829/829-0.txt'\n",
    "print('Extracting ',book2)\n",
    "uh2 = urllib.request.urlopen(book2)\n",
    "data2 = uh2.read().decode('utf8')"
   ]
  },
  {
   "cell_type": "markdown",
   "id": "1a17d7db",
   "metadata": {},
   "source": [
    "### Preprocessing of the Books"
   ]
  },
  {
   "cell_type": "code",
   "execution_count": 26,
   "id": "4e6be673",
   "metadata": {},
   "outputs": [],
   "source": [
    "# pre-processing the text of Book-1\n",
    "data1 = data1.lower()\n",
    "data1 = re.sub('^Section [1-9].', '', data1)\n",
    "data1 = re.sub(r'==.*?==+', '', data1)\n",
    "data1 = re.sub(r'CHAPTER \\d+', '', data1)\n",
    "data1 = re.sub('[\\(\\[].*?[\\)\\]]', '', data1)\n",
    "data1 = re.sub(r'[^a-zA-Z0-9\\s]', '', data1)\n",
    "data1 = data1.replace('\\n', '')"
   ]
  },
  {
   "cell_type": "code",
   "execution_count": 27,
   "id": "7b37c4c1",
   "metadata": {},
   "outputs": [],
   "source": [
    "# pre-processing the text of Book-2\n",
    "data2 = data2.lower()\n",
    "data2 = re.sub('^Section [1-9].', '', data2)\n",
    "data2 = re.sub(r'==.*?==+', '', data2)\n",
    "data2 = re.sub(r'CHAPTER \\d+', '', data2)\n",
    "data2 = re.sub('[\\(\\[].*?[\\)\\]]', '', data2)\n",
    "data2 = re.sub(r'[^a-zA-Z0-9\\s]', '', data2)\n",
    "data2 = data2.replace('\\n', '')"
   ]
  },
  {
   "cell_type": "markdown",
   "id": "a8a60ca0",
   "metadata": {},
   "source": [
    "### Tokenization"
   ]
  },
  {
   "cell_type": "code",
   "execution_count": 28,
   "id": "8ee9c98e",
   "metadata": {},
   "outputs": [],
   "source": [
    "# Tokenizing the text of the books\n",
    "token1 = nltk.word_tokenize(data1)\n",
    "token2 = nltk.word_tokenize(data2)"
   ]
  },
  {
   "cell_type": "code",
   "execution_count": 29,
   "id": "f5f297a1",
   "metadata": {},
   "outputs": [
    {
     "name": "stdout",
     "output_type": "stream",
     "text": [
      "[('the', 4511), ('to', 4207), ('of', 3722), ('and', 3596), ('her', 2215), ('i', 2050), ('a', 1994), ('in', 1921), ('was', 1845), ('she', 1704), ('that', 1583), ('not', 1568), ('it', 1534), ('you', 1421), ('he', 1333), ('his', 1268), ('be', 1254), ('as', 1192), ('had', 1175), ('with', 1097)]\n"
     ]
    }
   ],
   "source": [
    "# Frequency Distribution for token 1\n",
    "fdist1 = FreqDist(token1)\n",
    "print(fdist1.most_common(20))"
   ]
  },
  {
   "cell_type": "code",
   "execution_count": 30,
   "id": "ccf46110",
   "metadata": {},
   "outputs": [
    {
     "name": "stdout",
     "output_type": "stream",
     "text": [
      "[('the', 6151), ('of', 3965), ('and', 3738), ('to', 3532), ('i', 2864), ('a', 2527), ('in', 2068), ('my', 1608), ('that', 1310), ('was', 1274), ('with', 1003), ('me', 1003), ('as', 989), ('his', 920), ('for', 897), ('he', 870), ('which', 858), ('by', 848), ('it', 841), ('had', 726)]\n"
     ]
    }
   ],
   "source": [
    "# frequency Distribution for token 2\n",
    "fdist2 = FreqDist(token2)\n",
    "print(fdist2.most_common(20))"
   ]
  },
  {
   "cell_type": "code",
   "execution_count": 31,
   "id": "f2648df4",
   "metadata": {},
   "outputs": [
    {
     "data": {
      "text/plain": [
       "<Figure size 2880x2160 with 0 Axes>"
      ]
     },
     "metadata": {},
     "output_type": "display_data"
    }
   ],
   "source": [
    "fig = plt.figure(figsize=(40, 30))"
   ]
  },
  {
   "cell_type": "markdown",
   "id": "a641c5e8",
   "metadata": {},
   "source": [
    "### Plotting the Line Graph and Bar Graph"
   ]
  },
  {
   "cell_type": "code",
   "execution_count": 32,
   "id": "cbec2923",
   "metadata": {},
   "outputs": [
    {
     "data": {
      "image/png": "[encoded data removed]",
      "text/plain": [
       "<Figure size 432x288 with 1 Axes>"
      ]
     },
     "metadata": {
      "needs_background": "light"
     },
     "output_type": "display_data"
    },
    {
     "data": {
      "text/plain": [
       "<AxesSubplot:xlabel='Samples', ylabel='Counts'>"
      ]
     },
     "execution_count": 32,
     "metadata": {},
     "output_type": "execute_result"
    }
   ],
   "source": [
    "fdist1.plot(20)"
   ]
  },
  {
   "cell_type": "code",
   "execution_count": 33,
   "id": "a4e065f7",
   "metadata": {},
   "outputs": [
    {
     "data": {
      "image/png": "[encoded data removed]",
      "text/plain": [
       "<Figure size 432x288 with 1 Axes>"
      ]
     },
     "metadata": {
      "needs_background": "light"
     },
     "output_type": "display_data"
    },
    {
     "data": {
      "text/plain": [
       "<AxesSubplot:xlabel='Samples', ylabel='Counts'>"
      ]
     },
     "execution_count": 33,
     "metadata": {},
     "output_type": "execute_result"
    }
   ],
   "source": [
    "fdist2.plot(20)"
   ]
  },
  {
   "cell_type": "code",
   "execution_count": 34,
   "id": "a1a53baf",
   "metadata": {},
   "outputs": [
    {
     "data": {
      "image/png": "[encoded data removed]",
      "text/plain": [
       "<Figure size 432x288 with 1 Axes>"
      ]
     },
     "metadata": {
      "needs_background": "light"
     },
     "output_type": "display_data"
    }
   ],
   "source": [
    "plot_relationship(fdist1)"
   ]
  },
  {
   "cell_type": "code",
   "execution_count": 35,
   "id": "8d118a3c",
   "metadata": {},
   "outputs": [
    {
     "data": {
      "image/png": "[encoded data removed]",
      "text/plain": [
       "<Figure size 432x288 with 1 Axes>"
      ]
     },
     "metadata": {
      "needs_background": "light"
     },
     "output_type": "display_data"
    }
   ],
   "source": [
    "plot_relationship(fdist2)"
   ]
  },
  {
   "cell_type": "code",
   "execution_count": null,
   "id": "ce75bf26",
   "metadata": {},
   "outputs": [],
   "source": []
  }
 ],
 "metadata": {
  "kernelspec": {
   "display_name": "Python 3 (ipykernel)",
   "language": "python",
   "name": "python3"
  },
  "language_info": {
   "codemirror_mode": {
    "name": "ipython",
    "version": 3
   },
   "file_extension": ".py",
   "mimetype": "text/x-python",
   "name": "python",
   "nbconvert_exporter": "python",
   "pygments_lexer": "ipython3",
   "version": "3.9.6"
  }
 },
 "nbformat": 4,
 "nbformat_minor": 5
}
